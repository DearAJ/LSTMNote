{
  "nbformat": 4,
  "nbformat_minor": 0,
  "metadata": {
    "colab": {
      "provenance": [],
      "toc_visible": true,
      "authorship_tag": "ABX9TyOKdemEVNB/203PVjD1cXGn",
      "include_colab_link": true
    },
    "kernelspec": {
      "name": "python3",
      "display_name": "Python 3"
    },
    "language_info": {
      "name": "python"
    }
  },
  "cells": [
    {
      "cell_type": "markdown",
      "metadata": {
        "id": "view-in-github",
        "colab_type": "text"
      },
      "source": [
        "<a href=\"https://colab.research.google.com/github/DearAJ/LSTMNote/blob/main/%E5%A4%84%E7%90%86%E6%97%B6%E9%97%B4%E5%BA%8F%E5%88%97%E7%BC%BA%E5%A4%B1%E5%80%BC.ipynb\" target=\"_parent\"><img src=\"https://colab.research.google.com/assets/colab-badge.svg\" alt=\"Open In Colab\"/></a>"
      ]
    },
    {
      "cell_type": "markdown",
      "source": [
        "# 1. 忽略缺失的学习"
      ],
      "metadata": {
        "id": "9aOPkxSvi5zo"
      }
    },
    {
      "cell_type": "markdown",
      "source": [
        "## 使用 Masking 层"
      ],
      "metadata": {
        "id": "DyWkccPSj0Os"
      }
    },
    {
      "cell_type": "code",
      "source": [
        "from random import random\n",
        "from numpy import array\n",
        "from pandas import concat\n",
        "from pandas import DataFrame\n",
        "from keras.models import Sequential\n",
        "from keras.layers import LSTM\n",
        "from keras.layers import Dense\n",
        "from keras.layers import Masking\n",
        "\n",
        "# 生成一系列随机值\n",
        "def generate_sequence(n_timesteps):\n",
        "\treturn [random() for _ in range(n_timesteps)]\n",
        "\n",
        "# generate data for the lstm\n",
        "def generate_data(n_timesteps):\n",
        "\t# generate sequence\n",
        "\tsequence = generate_sequence(n_timesteps)\n",
        "\tsequence = array(sequence)\n",
        "\t# create lag\n",
        "\tdf = DataFrame(sequence)\n",
        "\tdf = concat([df.shift(1), df], axis=1)\n",
        "\t#将NAN值替换为-1\n",
        "\tdf.fillna(-1, inplace=True)\n",
        "\tvalues = df.values\n",
        "\t# specify input and output data\n",
        "\tX, y = values, values[:, 1]\n",
        "\t# reshape\n",
        "\tX = X.reshape(len(X), 2, 1)\n",
        "\ty = y.reshape(len(y), 1)\n",
        "\treturn X, y\n",
        "\n",
        "n_timesteps = 10\n",
        "# 定义网络\n",
        "model = Sequential()\n",
        "# mask_value=-1使得网络对-1的值进行忽略，不进行学习\n",
        "model.add(Masking(mask_value=-1, input_shape=(2, 1)))\n",
        "model.add(LSTM(5))\n",
        "model.add(Dense(1))\n",
        "model.compile(loss='mean_squared_error', optimizer='adam')\n",
        "# fit model\n",
        "for i in range(500):\n",
        "\tX, y = generate_data(n_timesteps)\n",
        "\tmodel.fit(X, y, epochs=1, batch_size=1, verbose=2)\n",
        "# 评估数据模型\n",
        "X, y = generate_data(n_timesteps)\n",
        "yhat = model.predict(X)\n",
        "for i in range(len(X)):\n",
        "\tprint('Expected', y[i,0], 'Predicted', yhat[i,0])"
      ],
      "metadata": {
        "id": "GfPIjXGUjPLH"
      },
      "execution_count": null,
      "outputs": []
    },
    {
      "cell_type": "markdown",
      "source": [
        "# 2. 对缺失值进行学习\n",
        "\n"
      ],
      "metadata": {
        "id": "7uToLz0ajZfJ"
      }
    },
    {
      "cell_type": "markdown",
      "source": [
        "*对缺失值进行学习，效果比忽略缺失值更好*"
      ],
      "metadata": {
        "id": "dQr3baoYl6Ug"
      }
    },
    {
      "cell_type": "code",
      "source": [
        "from random import random\n",
        "from numpy import array\n",
        "from pandas import concat\n",
        "from pandas import DataFrame\n",
        "from keras.models import Sequential\n",
        "from keras.layers import LSTM\n",
        "from keras.layers import Dense\n",
        "\n",
        "# 生成一系列随机值\n",
        "def generate_sequence(n_timesteps):\n",
        "\treturn [random() for _ in range(n_timesteps)]\n",
        "\n",
        "# generate data for the lstm\n",
        "def generate_data(n_timesteps):\n",
        "\t# generate sequence\n",
        "\tsequence = generate_sequence(n_timesteps)\n",
        "\tsequence = array(sequence)\n",
        "\t# create lag\n",
        "\tdf = DataFrame(sequence)\n",
        "\tdf = concat([df.shift(1), df], axis=1)\n",
        "\t# 把NAN值用-1来填充\n",
        "\tdf.fillna(-1, inplace=True)\n",
        "\tvalues = df.values\n",
        "\t# specify input and output data\n",
        "\tX, y = values, values[:, 1]\n",
        "\t# reshape\n",
        "\tX = X.reshape(len(X), 2, 1)\n",
        "\ty = y.reshape(len(y), 1)\n",
        "\treturn X, y\n",
        "\n",
        "n_timesteps = 10\n",
        "# 构建一个网络模型\n",
        "model = Sequential()\n",
        "model.add(LSTM(5, input_shape=(2, 1)))\n",
        "model.add(Dense(1))\n",
        "model.compile(loss='mean_squared_error', optimizer='adam')\n",
        "# 调用网络\n",
        "for i in range(500):\n",
        "\tX, y = generate_data(n_timesteps)\n",
        "\tmodel.fit(X, y, epochs=1, batch_size=1, verbose=2)\n",
        "# 评估数据模型\n",
        "X, y = generate_data(n_timesteps)\n",
        "yhat = model.predict(X)\n",
        "for i in range(len(X)):\n",
        "\tprint('Expected', y[i,0], 'Predicted', yhat[i,0])"
      ],
      "metadata": {
        "id": "bsE7vDEJl8yf"
      },
      "execution_count": null,
      "outputs": []
    }
  ]
}